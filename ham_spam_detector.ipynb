{
 "cells": [
  {
   "cell_type": "code",
   "execution_count": 2357,
   "metadata": {
    "collapsed": false
   },
   "outputs": [],
   "source": [
    "import numpy as np\n",
    "import csv\n",
    "from sklearn.model_selection import KFold\n",
    "from sklearn.feature_extraction.text import TfidfVectorizer\n",
    "import matplotlib.pyplot as plt\n",
    "from sklearn.preprocessing import LabelEncoder\n",
    "from sklearn.metrics import confusion_matrix"
   ]
  },
  {
   "cell_type": "markdown",
   "metadata": {},
   "source": [
    "## Define Model"
   ]
  },
  {
   "cell_type": "markdown",
   "metadata": {},
   "source": [
    "$$ \\sigma(w,X) = \\frac{1}{1 +e^ {-w.X}}$$ "
   ]
  },
  {
   "cell_type": "code",
   "execution_count": 2315,
   "metadata": {
    "collapsed": false
   },
   "outputs": [],
   "source": [
    "def sigmoid(w, X):\n",
    "    return (1. / (1. + np.exp(-np.dot(X,w))))"
   ]
  },
  {
   "cell_type": "markdown",
   "metadata": {},
   "source": [
    "  $$ Loss = \\frac{1}{m}.[- t^{T}.\\ln(\\sigma(w,X)) - (1 - t^{T}).\\ln(1-\\sigma(w,X)] + \\frac{\\lambda}{2.m}.w^{T}.w$$"
   ]
  },
  {
   "cell_type": "code",
   "execution_count": 2316,
   "metadata": {
    "collapsed": false
   },
   "outputs": [],
   "source": [
    "def loss(w, X, t, lam):\n",
    "    m = X.shape[0]\n",
    "    y = sigmoid(w,X)  \n",
    "    J = (1. / m) *(- np.dot(t.T,np.log(y)) - np.dot((1. - t.T),np.log(1. - y)))\n",
    "    regularizer = (lam / (2. * m)) * np.dot(w.T, w)\n",
    "    J += regularizer\n",
    "    return J"
   ]
  },
  {
   "cell_type": "markdown",
   "metadata": {},
   "source": [
    "$$ \\nabla Loss = \\frac{1}{m}[(\\sigma(w,X) - t)^{T}X]^T + \\frac{\\lambda}{m}w $$"
   ]
  },
  {
   "cell_type": "code",
   "execution_count": 2317,
   "metadata": {
    "collapsed": true
   },
   "outputs": [],
   "source": [
    "def partial(w, X, t, lam):\n",
    "    m = X.shape[0]\n",
    "    y = sigmoid(w, X)\n",
    "    d = (1. / m) * np.dot((y - t).T, X).T  \n",
    "    reg = (lam / m) * w\n",
    "    d = d + reg\n",
    "    return d"
   ]
  },
  {
   "cell_type": "markdown",
   "metadata": {},
   "source": [
    "$$w_{t+1} = w_{t} - \\eta  t^{-\\alpha} \\nabla Loss$$"
   ]
  },
  {
   "cell_type": "code",
   "execution_count": 2318,
   "metadata": {
    "collapsed": false
   },
   "outputs": [],
   "source": [
    "def update_parameter(w, d, iteration, rate = .2, a = -.9):\n",
    "    w = w - rate * (iteration ** a) * d\n",
    "    return w"
   ]
  },
  {
   "cell_type": "code",
   "execution_count": 2319,
   "metadata": {
    "collapsed": false
   },
   "outputs": [],
   "source": [
    "#define gradient descent\n",
    "def gradient_descent(w, X, t, lam, max_step = 1000, convergence = 0.00001):\n",
    "    counter = 1\n",
    "    L = loss(w, X, t, lam)\n",
    "    L_prev = L + 10\n",
    "    #update w until loss converges\n",
    "    while(abs(L - L_prev) > convergence) and (counter <= max_step):\n",
    "        L_prev =  L\n",
    "        L = loss(w, X, t, lam)\n",
    "        d = partial(w, X, t, lam)\n",
    "        w = update_parameter(w, d, counter)\n",
    "        counter += 1\n",
    "        \n",
    "    w_norm = np.linalg.norm(w)\n",
    "    results = {\"Weights\": w, \"Limit\" : L, \"W_norm\": w_norm}\n",
    "    return results\n",
    "    \n",
    "    "
   ]
  },
  {
   "cell_type": "code",
   "execution_count": 2320,
   "metadata": {
    "collapsed": false
   },
   "outputs": [],
   "source": [
    "#find optimum lambda\n",
    "def seek_lambda(X, t, stop, step_size = 1, start = 0):\n",
    "    #get index lists for split\n",
    "    kf = KFold(n_splits = 10)\n",
    "    #find total steps within interval\n",
    "    total_steps = int((stop - start) / step_size)\n",
    "    lam = start\n",
    "      \n",
    "    results = {}\n",
    "    for i in range(total_steps):\n",
    "        loss_results = []\n",
    "        w_results= []\n",
    "        w= np.asarray([1 for i in range(max_features)])\n",
    "        #w = np.random.random([max_features])\n",
    "        #cross validate\n",
    "        for train_index, test_index in kf.split(X):\n",
    "            X_train, V, X_target, V_target = X[train_index, :], X[test_index, :], t[train_index], t[test_index] \n",
    "            gd = gradient_descent(w, X_train, X_target, lam)\n",
    "            w = gd[\"Weights\"]\n",
    "            w_n = gd[\"W_norm\"]\n",
    "            validation_loss  = loss(w, V, V_target, lam = 0)\n",
    "            loss_results.append(validation_loss)\n",
    "            w_results.append(w_n)\n",
    "        #average the loss    \n",
    "        L = np.mean(loss_results)\n",
    "        W = np.mean(w_results)\n",
    "        results[lam] = [L,W]\n",
    "        lam += step_size\n",
    "        if lam%100 ==0:\n",
    "            print(lam)\n",
    "    return (results)"
   ]
  },
  {
   "cell_type": "code",
   "execution_count": 2321,
   "metadata": {
    "collapsed": true
   },
   "outputs": [],
   "source": [
    "#define rule\n",
    "def label_rule(prob):\n",
    "    if prob>0.5:\n",
    "        return 1\n",
    "    else : \n",
    "        return 0 \n"
   ]
  },
  {
   "cell_type": "markdown",
   "metadata": {},
   "source": [
    "## Fit Model using sample"
   ]
  },
  {
   "cell_type": "code",
   "execution_count": 2322,
   "metadata": {
    "collapsed": false
   },
   "outputs": [
    {
     "name": "stdout",
     "output_type": "stream",
     "text": [
      "[['ham', 'Hey you can pay. With salary de. Only  &lt;#&gt; .   '], ['ham', 'What happen dear. Why you silent. I am tensed   '], ['ham', 'I can do that! I want to please you both inside and outside the bedroom...   '], ['ham', 'I wonder how you got online, my love ? Had you gone to the net cafe ? Did you get your phone recharged ? Were you on a friends net ? I think of you, boytoy   '], ['ham', 'So now my dad is gonna call after he gets out of work and ask all these crazy questions.   ']]\n"
     ]
    }
   ],
   "source": [
    "#read in data\n",
    "f = open(\"./train.csv\", \"r\", errors='ignore')\n",
    "raw_data = list(csv.reader(f))[1:]\n",
    "print(raw_data[0:5])"
   ]
  },
  {
   "cell_type": "code",
   "execution_count": 2323,
   "metadata": {
    "collapsed": false
   },
   "outputs": [],
   "source": [
    "#seperate label and features\n",
    "target, X = zip(*raw_data)\n",
    "X =list(X)\n",
    "t = np.asarray(target)"
   ]
  },
  {
   "cell_type": "code",
   "execution_count": 2324,
   "metadata": {
    "collapsed": false
   },
   "outputs": [],
   "source": [
    "#convert target to numeric\n",
    "le =LabelEncoder() #get model\n",
    "fit =le.fit(target) #fit model\n",
    "t  = fit.transform(t) #transform"
   ]
  },
  {
   "cell_type": "code",
   "execution_count": 2325,
   "metadata": {
    "collapsed": false
   },
   "outputs": [
    {
     "data": {
      "text/plain": [
       "'What happen dear. Why you silent. I am tensed   '"
      ]
     },
     "execution_count": 2325,
     "metadata": {},
     "output_type": "execute_result"
    }
   ],
   "source": [
    "X[1]"
   ]
  },
  {
   "cell_type": "code",
   "execution_count": 2326,
   "metadata": {
    "collapsed": false
   },
   "outputs": [
    {
     "data": {
      "text/plain": [
       "0"
      ]
     },
     "execution_count": 2326,
     "metadata": {},
     "output_type": "execute_result"
    }
   ],
   "source": [
    "t[1]"
   ]
  },
  {
   "cell_type": "code",
   "execution_count": 2327,
   "metadata": {
    "collapsed": false
   },
   "outputs": [],
   "source": [
    "# convert features to numeric\n",
    "max_features = 150 #define max features allowed"
   ]
  },
  {
   "cell_type": "code",
   "execution_count": 2328,
   "metadata": {
    "collapsed": false,
    "scrolled": true
   },
   "outputs": [
    {
     "data": {
      "text/plain": [
       "(3000, 150)"
      ]
     },
     "execution_count": 2328,
     "metadata": {},
     "output_type": "execute_result"
    }
   ],
   "source": [
    "# convert features to numeric\n",
    "vectorizer = TfidfVectorizer(ngram_range = (2,4), max_features = max_features, stop_words = \"english\")\n",
    "X  = vectorizer.fit_transform(X).toarray()\n",
    "X.shape"
   ]
  },
  {
   "cell_type": "code",
   "execution_count": 2329,
   "metadata": {
    "collapsed": false
   },
   "outputs": [],
   "source": [
    "#Sampling\n",
    "#s = 1000 #define sample size\n",
    "#index =np.random.randint(1,3000,s) #random sample\n",
    "#slice for prototype\n",
    "\n",
    "#X = X[index, :]\n",
    "#t = t[index]\n",
    "#X.shape\n",
    "#t.shape"
   ]
  },
  {
   "cell_type": "code",
   "execution_count": 2331,
   "metadata": {
    "collapsed": false
   },
   "outputs": [],
   "source": [
    "x = list(test.keys())\n",
    "y = list(test.values())\n",
    "losses, norm = zip(*y)"
   ]
  },
  {
   "cell_type": "code",
   "execution_count": 2332,
   "metadata": {
    "collapsed": false
   },
   "outputs": [
    {
     "data": {
      "text/plain": [
       "13880"
      ]
     },
     "execution_count": 2332,
     "metadata": {},
     "output_type": "execute_result"
    }
   ],
   "source": [
    "best_lambda = losses.index(min(losses))\n",
    "best_lambda"
   ]
  },
  {
   "cell_type": "code",
   "execution_count": 2333,
   "metadata": {
    "collapsed": false
   },
   "outputs": [
    {
     "data": {
      "image/png": "[encoded data removed]",
      "text/plain": [
       "<matplotlib.figure.Figure at 0x11daee828>"
      ]
     },
     "metadata": {},
     "output_type": "display_data"
    }
   ],
   "source": [
    "%matplotlib inline\n",
    "fig = plt.figure(figsize=(20,20))\n",
    "ax1 = fig.add_subplot(2,1,1)\n",
    "ax2 = fig.add_subplot(2,1,2)\n",
    "\n",
    "ax1.semilogy(x[0:20000], losses[0:20000],color='navy')\n",
    "ax1.tick_params(bottom='off',top='off',left='off',right='off')\n",
    "ax1.spines[\"right\"].set_visible(False)\n",
    "ax1.spines[\"left\"].set_visible(False)\n",
    "ax1.spines[\"top\"].set_visible(False)\n",
    "ax1.spines[\"bottom\"].set_visible(False)\n",
    "ax1.axvline(x = best_lambda, ls = \"dashed\")\n",
    "ax1.set(title='Cross Entropy Loss against Lambda', ylabel='Loss', xlabel = \"Lambda\")\n",
    "ax2.plot(x[12500:20000], losses[12500:20000],color='navy')\n",
    "ax2.tick_params(bottom='off',top='off',left='off',right='off')\n",
    "ax2.spines[\"right\"].set_visible(False)\n",
    "ax2.spines[\"left\"].set_visible(False)\n",
    "ax2.spines[\"top\"].set_visible(False)\n",
    "ax2.spines[\"bottom\"].set_visible(False)\n",
    "ax2.axvline(x = best_lambda, ls = \"dashed\")\n",
    "ax2.set(title='Cross Entropy Loss against Lambda', ylabel='Loss', xlabel = \"Lambda\")\n",
    "\n",
    "ax1.grid()\n",
    "ax2.grid()\n",
    "#plt.stem(min_index,loss[min_index])\n",
    "plt.show()"
   ]
  },
  {
   "cell_type": "code",
   "execution_count": 2334,
   "metadata": {
    "collapsed": false
   },
   "outputs": [
    {
     "data": {
      "image/png": "[encoded data removed]",
      "text/plain": [
       "<matplotlib.figure.Figure at 0x11daee6a0>"
      ]
     },
     "metadata": {},
     "output_type": "display_data"
    }
   ],
   "source": [
    "%matplotlib inline\n",
    "fig = plt.figure(figsize=(10,10))\n",
    "ax1 = fig.add_subplot(1,1,1)\n",
    "\n",
    "ax1.plot(x[0:20000], norm[0:20000],color='navy')\n",
    "ax1.tick_params(bottom='off',top='off',left='off',right='off')\n",
    "ax1.spines[\"right\"].set_visible(False)\n",
    "ax1.spines[\"left\"].set_visible(False)\n",
    "ax1.spines[\"top\"].set_visible(False)\n",
    "ax1.spines[\"bottom\"].set_visible(False)\n",
    "ax1.axvline(x = best_lambda, ls = \"dashed\")\n",
    "ax1.set(title='|w| against Lambda',\n",
    "           ylabel='|w|', xlabel = \"Lambda\")\n",
    "ax1.grid()\n",
    "plt.show()"
   ]
  },
  {
   "cell_type": "markdown",
   "metadata": {},
   "source": [
    "## Predict Test Data"
   ]
  },
  {
   "cell_type": "code",
   "execution_count": 2346,
   "metadata": {
    "collapsed": false
   },
   "outputs": [],
   "source": [
    "w= np.random.randn(max_features)\n",
    "result  = gradient_descent(w, X, t, best_lambda)"
   ]
  },
  {
   "cell_type": "code",
   "execution_count": 2347,
   "metadata": {
    "collapsed": false
   },
   "outputs": [
    {
     "name": "stdout",
     "output_type": "stream",
     "text": [
      "[['ham', 'Not..tel software name..   '], ['spam', 'As a SIM subscriber, you are selected to receive a Bonus! Get it delivered to your door, Txt the word OK to No: 88600 to claim. 150p/msg, EXP. 30Apr   '], ['ham', \"Sorry i cant take your call right now. It so happens that there r 2waxsto do wat you want. She can come and ill get her medical insurance. And she'll be able to deliver and have basic care. I'm currently shopping for the right medical insurance for her. So just give me til friday morning. Thats when i.ll see the major person that can guide me to the right insurance.   \"], ['spam', 'Congrats! Nokia 3650 video camera phone is your Call 09066382422 Calls cost 150ppm Ave call 3mins vary from mobiles 16+ Close 300603 post BCM4284 Ldn WC1N3XX   '], ['ham', \"No chikku nt yet.. Ya i'm free   \"]]\n"
     ]
    }
   ],
   "source": [
    "#read in data\n",
    "f = open(\"./test.csv\", \"r\", errors='ignore')\n",
    "raw_test = list(csv.reader(f))[1:]\n",
    "print(raw_test[0:5])"
   ]
  },
  {
   "cell_type": "code",
   "execution_count": 2348,
   "metadata": {
    "collapsed": true
   },
   "outputs": [],
   "source": [
    "target_test, X_test = zip(*raw_data)\n",
    "X_test =list(X_test)\n",
    "t_test = np.asarray(target_test)"
   ]
  },
  {
   "cell_type": "code",
   "execution_count": 2349,
   "metadata": {
    "collapsed": true
   },
   "outputs": [],
   "source": [
    "t  = fit.transform(t_test) #transform"
   ]
  },
  {
   "cell_type": "code",
   "execution_count": 2350,
   "metadata": {
    "collapsed": false
   },
   "outputs": [
    {
     "data": {
      "text/plain": [
       "(3000, 150)"
      ]
     },
     "execution_count": 2350,
     "metadata": {},
     "output_type": "execute_result"
    }
   ],
   "source": [
    "# convert features to numeric\n",
    "X_test  = vectorizer.transform(X_test).toarray()\n",
    "X_test.shape"
   ]
  },
  {
   "cell_type": "code",
   "execution_count": 2351,
   "metadata": {
    "collapsed": false
   },
   "outputs": [],
   "source": [
    "w = result[\"Weights\"]"
   ]
  },
  {
   "cell_type": "code",
   "execution_count": 2352,
   "metadata": {
    "collapsed": false
   },
   "outputs": [],
   "source": [
    "y = sigmoid(w,X_test)"
   ]
  },
  {
   "cell_type": "code",
   "execution_count": 2353,
   "metadata": {
    "collapsed": true
   },
   "outputs": [],
   "source": [
    "y_hat = [label_rule(i) for i in y]"
   ]
  },
  {
   "cell_type": "code",
   "execution_count": 2354,
   "metadata": {
    "collapsed": false
   },
   "outputs": [
    {
     "data": {
      "text/plain": [
       "(array([2671,    0,    0,    0,    0,    0,    0,    0,    0,  329]),\n",
       " array([ 0. ,  0.1,  0.2,  0.3,  0.4,  0.5,  0.6,  0.7,  0.8,  0.9,  1. ]))"
      ]
     },
     "execution_count": 2354,
     "metadata": {},
     "output_type": "execute_result"
    }
   ],
   "source": [
    "np.histogram(y_hat)"
   ]
  },
  {
   "cell_type": "code",
   "execution_count": 2358,
   "metadata": {
    "collapsed": false
   },
   "outputs": [
    {
     "data": {
      "text/plain": [
       "array([[2384,  199],\n",
       "       [ 287,  130]])"
      ]
     },
     "execution_count": 2358,
     "metadata": {},
     "output_type": "execute_result"
    }
   ],
   "source": [
    "confusion_matrix(t, y_hat, labels = [0,1])"
   ]
  },
  {
   "cell_type": "code",
   "execution_count": 2356,
   "metadata": {
    "collapsed": false
   },
   "outputs": [
    {
     "data": {
      "image/png": "[encoded data removed]",
      "text/plain": [
       "<matplotlib.figure.Figure at 0x11ea56710>"
      ]
     },
     "metadata": {},
     "output_type": "display_data"
    }
   ],
   "source": [
    "%matplotlib inline\n",
    "fig = plt.figure(figsize=(5,5))\n",
    "ax1 = fig.add_subplot(1,1,1)\n",
    "\n",
    "ax1.hist((t-y_hat), bins =3 , color='navy', alpha =0.8 , align = \"mid\" )\n",
    "ax1.set(title='Histogram of Errors',\n",
    "           ylabel='Error', xlabel = \"Density\")\n",
    "\n",
    "ax1.grid()\n",
    "plt.show()"
   ]
  },
  {
   "cell_type": "code",
   "execution_count": 2345,
   "metadata": {
    "collapsed": false
   },
   "outputs": [
    {
     "data": {
      "text/plain": [
       "['08000839402 call2optout',\n",
       " '1000 cash',\n",
       " '12hrs 150ppm',\n",
       " '150p msg',\n",
       " '2000 prize',\n",
       " '2000 prize guaranteed',\n",
       " '2003 account',\n",
       " '2003 account statement',\n",
       " '2lands row',\n",
       " '2nd attempt',\n",
       " '2nd attempt contact',\n",
       " '3030 valid',\n",
       " '3030 valid 12hrs',\n",
       " '350 award',\n",
       " '500 pounds',\n",
       " '750 anytime',\n",
       " '800 redeemed',\n",
       " '800 redeemed points',\n",
       " 'account statement',\n",
       " 'attempt contact',\n",
       " 'await collection',\n",
       " 'bonus caller',\n",
       " 'bonus caller prize',\n",
       " 'caller prize',\n",
       " 'camcorder reply',\n",
       " 'camcorder reply 08000930705',\n",
       " 'camera phones',\n",
       " 'chance win',\n",
       " 'claim code',\n",
       " 'claim ur',\n",
       " 'come home',\n",
       " 'cs apply',\n",
       " 'customer service',\n",
       " 'customer service representative',\n",
       " 'customer services',\n",
       " 'decimal gt',\n",
       " 'don know',\n",
       " 'dont know',\n",
       " 'double mins',\n",
       " 'draw shows',\n",
       " 'draw shows won',\n",
       " 'dun haf',\n",
       " 'feel like',\n",
       " 'free entry',\n",
       " 'free mobile',\n",
       " 'free text',\n",
       " 'good afternoon',\n",
       " 'good day',\n",
       " 'good morning',\n",
       " 'good night',\n",
       " 'great day',\n",
       " 'gt lt',\n",
       " 'gt min',\n",
       " 'gt mins',\n",
       " 'gt minutes',\n",
       " 'guaranteed 1000',\n",
       " 'guaranteed 1000 cash',\n",
       " 'gud mrng',\n",
       " 'half price',\n",
       " 'half price line',\n",
       " 'happy birthday',\n",
       " 'happy new',\n",
       " 'happy new year',\n",
       " 'hg suite342',\n",
       " 'hg suite342 2lands',\n",
       " 'hg suite342 2lands row',\n",
       " 'hi hi',\n",
       " 'hope having',\n",
       " 'http www',\n",
       " 'identifier code',\n",
       " 'joy father',\n",
       " 'just got',\n",
       " 'just send',\n",
       " 'just text',\n",
       " 'just txt',\n",
       " 'land line',\n",
       " 'land line claim',\n",
       " 'latest colour',\n",
       " 'let know',\n",
       " 'like lt',\n",
       " 'like lt gt',\n",
       " 'line claim',\n",
       " 'line rental',\n",
       " 'll later',\n",
       " 'll text',\n",
       " 'lt decimal',\n",
       " 'lt decimal gt',\n",
       " 'lt gt',\n",
       " 'lt gt min',\n",
       " 'lt gt mins',\n",
       " 'lt gt minutes',\n",
       " 'make sure',\n",
       " 'mobile number',\n",
       " 'mobileupd8 08000839402',\n",
       " 'national rate',\n",
       " 'new year',\n",
       " 'nice day',\n",
       " 'ntt po box',\n",
       " 'numbers ending',\n",
       " 'ok lor',\n",
       " 'pick phone',\n",
       " 'pls send',\n",
       " 'po box',\n",
       " 'price line',\n",
       " 'price line rental',\n",
       " 'private 2003',\n",
       " 'private 2003 account',\n",
       " 'private 2003 account statement',\n",
       " 'prize claim',\n",
       " 'prize guaranteed',\n",
       " 'receive 350',\n",
       " 'receive 350 award',\n",
       " 'redeemed points',\n",
       " 'reply 08000930705',\n",
       " 'rs lt',\n",
       " 'selected receive',\n",
       " 'send message',\n",
       " 'send stop',\n",
       " 'service representative',\n",
       " 'shows 800',\n",
       " 'shows 800 redeemed',\n",
       " 'shows 800 redeemed points',\n",
       " 'shows won',\n",
       " 'sorry da',\n",
       " 'sorry ll',\n",
       " 'sorry ll later',\n",
       " 'specially selected',\n",
       " 'specially selected receive',\n",
       " 'suite342 2lands',\n",
       " 'suite342 2lands row',\n",
       " 'text stop',\n",
       " 'thats cool',\n",
       " 'tried contact',\n",
       " 'trying contact',\n",
       " 'ts cs',\n",
       " 'txt stop',\n",
       " 'txt word',\n",
       " 'update latest',\n",
       " 'ur awarded',\n",
       " 'ur cash',\n",
       " 'urgent mobile',\n",
       " 'valid 12hrs',\n",
       " 'valid 12hrs 150ppm',\n",
       " 've got',\n",
       " 'wat doing',\n",
       " 'wat time',\n",
       " 'watching tv',\n",
       " 'week just',\n",
       " 'won guaranteed',\n",
       " 'won guaranteed 1000 cash']"
      ]
     },
     "execution_count": 2345,
     "metadata": {},
     "output_type": "execute_result"
    }
   ],
   "source": [
    "vectorizer.get_feature_names()"
   ]
  }
 ],
 "metadata": {
  "kernelspec": {
   "display_name": "Python 3",
   "language": "python",
   "name": "python3"
  },
  "language_info": {
   "codemirror_mode": {
    "name": "ipython",
    "version": 3
   },
   "file_extension": ".py",
   "mimetype": "text/x-python",
   "name": "python",
   "nbconvert_exporter": "python",
   "pygments_lexer": "ipython3",
   "version": "3.6.0"
  }
 },
 "nbformat": 4,
 "nbformat_minor": 2
}
